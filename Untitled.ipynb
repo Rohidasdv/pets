{
 "cells": [
  {
   "cell_type": "code",
   "execution_count": 3,
   "id": "d68d79e9",
   "metadata": {},
   "outputs": [
    {
     "name": "stdout",
     "output_type": "stream",
     "text": [
      "[('F6-5391@Cookie', ), ('G0-8531@Sojourner', ), ('G6-6501@Jake', ), ('G9-0817@Kashi', ), ('H2-8586@Antigone', ), ('I5-4893@Cookie', ), ('L4-2594@Newcastle', ), ('L4-4205@Rumba', ), ('L8-0046@Rumba', ), ('M0-2904@Simba', ), ('M2-1131@Rumba', ), ('M4-9675@Jeep', ), ('M8-7852@Cookie', ), ('N0-9539@Swiffer', ), ('N7-6805@Enyo', ), ('P1-2578@Tiger', ), ('P7-2443@Rumba', ), ('P9-6519@Cookie', ), ('Q0-2001@Roomba', ), ('Q8-0954@Lakshmi', ), ('S4-2254@Draper', ), ('T0-3277@Humbert', ), ('T2-2142@Stowe', ), ('U0-5987@Ebenezer', ), ('U4-5113@Tiger', ), ('V4-6172@Sarosh', ), ('W8-5750@Simba', ), ('X6-4876@Brandy', ), ('Z4-4045@Simba', ), ('Z4-5652@Priya', ), ('Z6-3226@Simba', )]\n"
     ]
    }
   ],
   "source": [
    "import pyodbc\n",
    "\n",
    "def fetch_data_from_database(server, database, username, password, query):\n",
    "    connection_string = f\"DRIVER={{SQL Server}};SERVER={server};DATABASE={database};UID={username};PWD={password}\"\n",
    "    try:\n",
    "        with pyodbc.connect(connection_string) as conn:\n",
    "            cursor = conn.cursor()\n",
    "            cursor.execute(query)\n",
    "            rows = cursor.fetchall()\n",
    "            return rows\n",
    "    except pyodbc.Error as e:\n",
    "        print(\"Error connecting to the database:\", e)\n",
    "        return []\n",
    "\n",
    "# Example usage:\n",
    "server = 'INBAAVVMMSUSQL'\n",
    "database = 'MSU_2019'\n",
    "username = 'msu_user'\n",
    "password = 'Password@123'\n",
    "query = \"SELECT CONCAT(petID, '@', Name) AS ConcatenatedColumn FROM [dbo].[Pets] WHERE Kind = 'cat';\"\n",
    "result = fetch_data_from_database(server, database, username, password, query)\n",
    "print(result)\n"
   ]
  },
  {
   "cell_type": "code",
   "execution_count": 4,
   "id": "1d03c55d",
   "metadata": {},
   "outputs": [
    {
     "name": "stdout",
     "output_type": "stream",
     "text": [
      "F6-5391@Cookie, G0-8531@Sojourner, G6-6501@Jake, G9-0817@Kashi, H2-8586@Antigone, I5-4893@Cookie, L4-2594@Newcastle, L4-4205@Rumba, L8-0046@Rumba, M0-2904@Simba, M2-1131@Rumba, M4-9675@Jeep, M8-7852@Cookie, N0-9539@Swiffer, N7-6805@Enyo, P1-2578@Tiger, P7-2443@Rumba, P9-6519@Cookie, Q0-2001@Roomba, Q8-0954@Lakshmi, S4-2254@Draper, T0-3277@Humbert, T2-2142@Stowe, U0-5987@Ebenezer, U4-5113@Tiger, V4-6172@Sarosh, W8-5750@Simba, X6-4876@Brandy, Z4-4045@Simba, Z4-5652@Priya, Z6-3226@Simba\n"
     ]
    }
   ],
   "source": [
    "import pyodbc\n",
    "\n",
    "def fetch_data_from_database(server, database, username, password, query):\n",
    "    connection_string = f\"DRIVER={{SQL Server}};SERVER={server};DATABASE={database};UID={username};PWD={password}\"\n",
    "    try:\n",
    "        with pyodbc.connect(connection_string) as conn:\n",
    "            cursor = conn.cursor()\n",
    "            cursor.execute(query)\n",
    "            rows = cursor.fetchall()\n",
    "\n",
    "            # Extract and concatenate names from the rows\n",
    "            concatenated_names = ', '.join(row[0] for row in rows)\n",
    "\n",
    "            return concatenated_names\n",
    "    except pyodbc.Error as e:\n",
    "        print(\"Error connecting to the database:\", e)\n",
    "        return \"\"\n",
    "\n",
    "# Example usage:\n",
    "server = 'INBAAVVMMSUSQL'\n",
    "database = 'MSU_2019'\n",
    "username = 'msu_user'\n",
    "password = 'Password@123'\n",
    "query = \"SELECT CONCAT(petID, '@', Name) AS ConcatenatedColumn FROM [dbo].[Pets] WHERE Kind = 'cat';\"\n",
    "result = fetch_data_from_database(server, database, username, password, query)\n",
    "print(result)\n"
   ]
  },
  {
   "cell_type": "code",
   "execution_count": 17,
   "id": "4470790d",
   "metadata": {},
   "outputs": [
    {
     "name": "stdout",
     "output_type": "stream",
     "text": [
      "['F1-1855@Bandit', 'H8-8856@Bandit', 'I2-7926@Dior', 'J2-4382@Dexter', 'K4-5012@Natacha', 'O1-7229@Dexter', 'O8-2501@Bandit', 'Q0-3593@Oakley', 'Q2-3642@Thatcher', 'R3-7551@Keller', 'X0-8765@Vuitton', 'X7-2632@Maripol']\n"
     ]
    }
   ],
   "source": [
    "import pyodbc\n",
    "\n",
    "def fetch_data_from_database(server, database, username, password, query):\n",
    "    connection_string = f\"DRIVER={{SQL Server}};SERVER={server};DATABASE={database};UID={username};PWD={password}\"\n",
    "    try:\n",
    "        with pyodbc.connect(connection_string) as conn:\n",
    "            cursor = conn.cursor()\n",
    "            cursor.execute(query)\n",
    "            rows = cursor.fetchall()\n",
    "\n",
    "            # Extract and concatenate names from the rows into a list\n",
    "            concatenated_names = [row[0] for row in rows]\n",
    "\n",
    "            return concatenated_names\n",
    "    except pyodbc.Error as e:\n",
    "        print(\"Error connecting to the database:\", e)\n",
    "        return []\n",
    "\n",
    "# Example usage:\n",
    "server = 'INBAAVVMMSUSQL'\n",
    "database = 'MSU_2019'\n",
    "username = 'msu_user'\n",
    "password = 'Password@123'\n",
    "query = \"SELECT CONCAT(petID, '@', Name) AS ConcatenatedColumn FROM [dbo].[Pets] WHERE Kind = 'parrot';\"\n",
    "result = fetch_data_from_database(server, database, username, password, query)\n",
    "print(result)\n"
   ]
  },
  {
   "cell_type": "code",
   "execution_count": 18,
   "id": "4495458b",
   "metadata": {},
   "outputs": [
    {
     "data": {
      "text/plain": [
       "12"
      ]
     },
     "execution_count": 18,
     "metadata": {},
     "output_type": "execute_result"
    }
   ],
   "source": [
    "len(result)"
   ]
  },
  {
   "cell_type": "code",
   "execution_count": 19,
   "id": "6d35b24e",
   "metadata": {},
   "outputs": [
    {
     "name": "stdout",
     "output_type": "stream",
     "text": [
      "Renamed '00RBYC1YIDLR.jpg' to 'F1-1855@Bandit.jpg'\n",
      "Renamed '0BSBZQ43C3BY.jpg' to 'H8-8856@Bandit.jpg'\n",
      "Renamed '1CB8X92SQTSQ.jpg' to 'I2-7926@Dior.jpg'\n",
      "Renamed '1KIKGGBEOHF9.jpg' to 'J2-4382@Dexter.jpg'\n",
      "Renamed '1LI2OYN0S3PD.jpg' to 'K4-5012@Natacha.jpg'\n",
      "Renamed '1P87SNOHYXXW.jpg' to 'O1-7229@Dexter.jpg'\n",
      "Renamed '2A4HN2SC9J4O.jpg' to 'O8-2501@Bandit.jpg'\n",
      "Renamed '6NZVICXJR72R.jpg' to 'Q0-3593@Oakley.jpg'\n",
      "Renamed '7G4WQQDMO0W0.jpg' to 'Q2-3642@Thatcher.jpg'\n",
      "Renamed '7W2TOPPIM81P.jpg' to 'R3-7551@Keller.jpg'\n",
      "Renamed 'AGBIDFTJGZA2.jpg' to 'X0-8765@Vuitton.jpg'\n",
      "Renamed 'AP6NK1U5BP5E.jpg' to 'X7-2632@Maripol.jpg'\n"
     ]
    }
   ],
   "source": [
    "import os\n",
    "\n",
    "def rename_pictures_by_names(names_list, pictures_folder):\n",
    "    picture_files = os.listdir(pictures_folder)\n",
    "\n",
    "    for name, filename in zip(names_list, picture_files):\n",
    "        current_path = os.path.join(pictures_folder, filename)\n",
    "        new_filename = os.path.join(pictures_folder, f\"{name}.jpg\")\n",
    "\n",
    "        try:\n",
    "            os.rename(current_path, new_filename)\n",
    "            print(f\"Renamed '{filename}' to '{name}.jpg'\")\n",
    "        except FileNotFoundError:\n",
    "            print(f\"Error: '{filename}' not found in the folder.\")\n",
    "        except FileExistsError:\n",
    "            print(f\"Error: '{name}.jpg' already exists in the folder.\")\n",
    "\n",
    "# Example usage:\n",
    "names_list = result  # Replace this with your list of names\n",
    "pictures_folder = r'C:\\Users\\Avinash.dangat\\Documents\\Qlik\\Sense\\Apps\\pet_pics\\parrot'  # Replace this with the path to your folder containing the pictures\n",
    "rename_pictures_by_names(names_list, pictures_folder)\n"
   ]
  },
  {
   "cell_type": "code",
   "execution_count": 22,
   "id": "35ceaad1",
   "metadata": {},
   "outputs": [
    {
     "name": "stdout",
     "output_type": "stream",
     "text": [
      "[]\n"
     ]
    }
   ],
   "source": [
    "import requests\n",
    "from bs4 import BeautifulSoup\n",
    "import re\n",
    "\n",
    "def get_picture_links_from_git_repo(url):\n",
    "    try:\n",
    "        response = requests.get(url)\n",
    "        response.raise_for_status()  # Check for successful response\n",
    "\n",
    "        soup = BeautifulSoup(response.content, 'html.parser')\n",
    "\n",
    "        picture_links = []\n",
    "        for img_tag in soup.find_all('img'):\n",
    "            src = img_tag.get('src')\n",
    "            if src:\n",
    "                if src.startswith('http') or src.startswith('https'):\n",
    "                    picture_links.append(src)\n",
    "\n",
    "        return picture_links\n",
    "    except requests.exceptions.RequestException as e:\n",
    "        print(\"Error fetching data:\", e)\n",
    "        return []\n",
    "\n",
    "# Example usage:\n",
    "repo_url = 'https://github.com/Rohidasdv/petpics/blob/main/cats/F6-5391%40Cookie.jpg'\n",
    "picture_links = get_picture_links_from_git_repo(repo_url)\n",
    "print(picture_links)\n"
   ]
  },
  {
   "cell_type": "code",
   "execution_count": 24,
   "id": "25b6ca3c",
   "metadata": {},
   "outputs": [
    {
     "name": "stdout",
     "output_type": "stream",
     "text": [
      "\n"
     ]
    }
   ],
   "source": [
    "import requests\n",
    "from bs4 import BeautifulSoup\n",
    "import os\n",
    "from urllib.parse import unquote\n",
    "\n",
    "def extract_image_name_from_url(url):\n",
    "    decoded_url = unquote(url)\n",
    "    image_name = os.path.basename(decoded_url)\n",
    "    return image_name\n",
    "\n",
    "# Example usage:\n",
    "repo_url = 'https://github.com/Rohidasdv/petpics/blob/main/cats/'\n",
    "image_name = extract_image_name_from_url(repo_url)\n",
    "print(image_name)\n"
   ]
  },
  {
   "cell_type": "code",
   "execution_count": 26,
   "id": "fd7af0e4",
   "metadata": {},
   "outputs": [],
   "source": [
    "import os\n",
    "import shutil\n",
    "\n",
    "def rename_files_in_folder(folder_path):\n",
    "    for filename in os.listdir(folder_path):\n",
    "        if \"@\" in filename:\n",
    "            new_filename = filename.split(\"@\")[0]\n",
    "            old_filepath = os.path.join(folder_path, filename)\n",
    "            new_filepath = os.path.join(folder_path, new_filename)\n",
    "            shutil.move(old_filepath, new_filepath)\n",
    "\n",
    "# Example usage:\n",
    "folder_path = r\"C:\\Users\\Avinash.dangat\\Documents\\Qlik\\Sense\\Apps\\pet_pics\"\n",
    "rename_files_in_folder(folder_path)\n"
   ]
  },
  {
   "cell_type": "code",
   "execution_count": 27,
   "id": "1162442a",
   "metadata": {},
   "outputs": [],
   "source": [
    "import os\n",
    "import shutil\n",
    "\n",
    "def rename_files_in_folder(folder_path):\n",
    "    for filename in os.listdir(folder_path):\n",
    "        if \"-\" in filename :\n",
    "            new_filename = filename + \".jpg\"\n",
    "            old_filepath = os.path.join(folder_path, filename)\n",
    "            new_filepath = os.path.join(folder_path, new_filename)\n",
    "            shutil.move(old_filepath, new_filepath)\n",
    "\n",
    "# Example usage:\n",
    "folder_path = r\"C:\\Users\\Avinash.dangat\\Documents\\Qlik\\Sense\\Apps\\pet_pics\"\n",
    "rename_files_in_folder(folder_path)\n"
   ]
  },
  {
   "cell_type": "code",
   "execution_count": null,
   "id": "dd1ee79c",
   "metadata": {},
   "outputs": [],
   "source": []
  }
 ],
 "metadata": {
  "kernelspec": {
   "display_name": "Python 3 (ipykernel)",
   "language": "python",
   "name": "python3"
  },
  "language_info": {
   "codemirror_mode": {
    "name": "ipython",
    "version": 3
   },
   "file_extension": ".py",
   "mimetype": "text/x-python",
   "name": "python",
   "nbconvert_exporter": "python",
   "pygments_lexer": "ipython3",
   "version": "3.9.7"
  }
 },
 "nbformat": 4,
 "nbformat_minor": 5
}
